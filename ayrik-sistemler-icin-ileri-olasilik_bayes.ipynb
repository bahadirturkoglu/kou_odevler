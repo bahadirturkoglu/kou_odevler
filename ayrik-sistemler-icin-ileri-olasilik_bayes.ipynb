{
  "nbformat": 4,
  "nbformat_minor": 0,
  "metadata": {
    "colab": {
      "name": "Untitled0.ipynb",
      "provenance": [],
      "collapsed_sections": [],
      "authorship_tag": "ABX9TyMuKlAAqmHbgxAMj2P+pzR+",
      "include_colab_link": true
    },
    "kernelspec": {
      "name": "python3",
      "display_name": "Python 3"
    }
  },
  "cells": [
    {
      "cell_type": "markdown",
      "metadata": {
        "id": "view-in-github",
        "colab_type": "text"
      },
      "source": [
        "<a href=\"https://colab.research.google.com/github/bahadirturkoglu/kou_odevler/blob/master/ayrik-sistemler-icin-ileri-olasilik_bayes.ipynb\" target=\"_parent\"><img src=\"https://colab.research.google.com/assets/colab-badge.svg\" alt=\"Open In Colab\"/></a>"
      ]
    },
    {
      "cell_type": "markdown",
      "metadata": {
        "id": "g38iaILu2Iw6",
        "colab_type": "text"
      },
      "source": [
        "Örnek: Bir araştırmaya göre her 50 yaşlıdan 3 tanesi, korono virüs hastalığına yakalanmakta ve tam güvenilir olmamasına rağmen yapılan test sonuçlarına göre, hastalıklı bir yaşlının testi %75 pozitif, sağlıklı bir yaşlının testi ise %12 pozitif sonuç vermektedir. Bu bilgilere göre test sonucu pozitif olan bir yaşlının gerçekten hasta olma olasılığı nedir?\n",
        "\n",
        "\n",
        "P(A) : yaşlının hasta olması olasılığı = 3/50\n",
        "\n",
        "P(B) : Testin pozitif çıkması olasılığı = 3/50 * 0.75 + 47/50 * 0.12 = 7.89/50\n",
        "\n",
        "P(A|B) : Pozitif çıkan testin hastalık çıkma olasılığı ( sorulan bu )\n",
        "\n",
        "\n",
        "> Indented block\n",
        "\n",
        "\n",
        "P(B|A) : Hastalıklı yaşlının testinin pozitif çıkma olasılığı = 0.75\n",
        "\n",
        "P(A|B)=P(B|A)*P(A)/P(B) => (0.75 * 3/50) / (7.89/50) = 0.28 = %28 bulunur."
      ]
    },
    {
      "cell_type": "code",
      "metadata": {
        "id": "8EaKR8VAzFii",
        "colab_type": "code",
        "colab": {
          "base_uri": "https://localhost:8080/",
          "height": 34
        },
        "outputId": "18dfb1ad-cd81-46bc-88c6-37665241228b"
      },
      "source": [
        "PA=0.06 # yaşlının hasta olması olasılığı\n",
        "PB=0.1578 # Testin pozitif çıkması olasılığı\n",
        "PBA=0.75 # Hastalıklı yaşlının testinin pozitif çıkma olasılığı \n",
        "\n",
        "PAB=PBA*PA/PB\n",
        "\n",
        "print(\"Pozitif çıkan testin hastalık çıkma olasılığı : \",PAB)"
      ],
      "execution_count": 5,
      "outputs": [
        {
          "output_type": "stream",
          "text": [
            "Pozitif çıkan testin hastalık çıkma olasılığı :  0.28517110266159695\n"
          ],
          "name": "stdout"
        }
      ]
    }
  ]
}